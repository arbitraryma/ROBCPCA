{
 "cells": [
  {
   "cell_type": "code",
   "execution_count": 1,
   "id": "4c83338f",
   "metadata": {},
   "outputs": [],
   "source": [
    "import numpy as np\n",
    "\n",
    "def comaxe(sigma, p=None):\n",
    "    \"\"\"\n",
    "    Algorithm 1: Computes the common projection axes for a given set of covariance matrices.\n",
    "\n",
    "    Parameters:\n",
    "    - sigma: List of covariance matrices (numpy arrays).\n",
    "    - p: Optional integer specifying the number of components to retain. \n",
    "         If None, it selects the minimum number of components that account for at least 90% of variability (capped at 10 as per Hubert).\n",
    "\n",
    "    Returns:\n",
    "    - S: Common projection matrix (numpy array).\n",
    "    - p: Number of components retained.\n",
    "    \"\"\"\n",
    "    n = len(sigma)\n",
    "    \n",
    "    # Compute the common covariance matrix\n",
    "    sigma_com = sum(sigma) / n\n",
    "    \n",
    "    # Perform Singular Value Decomposition (SVD)\n",
    "    U, D, _ = np.linalg.svd(sigma_com)\n",
    "    \n",
    "    # Compute proportion of variance explained\n",
    "    prop = D / np.sum(D)\n",
    "    cum_variance = np.cumsum(prop)  # Cumulative variance explained\n",
    "\n",
    "    # Determine p if not provided\n",
    "    if p is None:\n",
    "        p = np.where(cum_variance >= 0.9)[0][0] + 1  # Select first index where cumulative variance exceeds 90%\n",
    "\n",
    "    # Extract the first p principal components\n",
    "    S = U[:, :p]\n",
    "\n",
    "    return S, p"
   ]
  },
  {
   "cell_type": "code",
   "execution_count": 20,
   "id": "9e0ac724",
   "metadata": {},
   "outputs": [],
   "source": [
    "# here we provide an example to use this function \n",
    "np.random.seed(1) \n",
    "a = np.random.rand(10,10)\n",
    "S,p = comaxe([a])"
   ]
  }
 ],
 "metadata": {
  "kernelspec": {
   "display_name": "Python 3 (ipykernel)",
   "language": "python",
   "name": "python3"
  },
  "language_info": {
   "codemirror_mode": {
    "name": "ipython",
    "version": 3
   },
   "file_extension": ".py",
   "mimetype": "text/x-python",
   "name": "python",
   "nbconvert_exporter": "python",
   "pygments_lexer": "ipython3",
   "version": "3.11.4"
  }
 },
 "nbformat": 4,
 "nbformat_minor": 5
}
